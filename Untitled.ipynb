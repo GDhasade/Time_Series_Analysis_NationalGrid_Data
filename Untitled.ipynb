{
 "cells": [
  {
   "cell_type": "markdown",
   "metadata": {},
   "source": [
    "# Time-Series Analysis & Forecasting\n",
    "\n",
    "### DataScience Lifecycle 4D framework:\n",
    "\n",
    "#### Define\n",
    "- Examine UK National Grid dataset and perform Time-Series Analysis and perform forcasting.\n",
    "\n",
    "#### Discover\n",
    "- Dataset Downloaded from: http://www.gridwatch.templar.co.uk/download.php\n",
    "- Data consider from 1st June, 2011 to 24th September, 2020\n",
    "- Dataset consist following features:\n",
    "\n",
    "    - **ID:** Unique Row identifier\n",
    "    \n",
    "    - **TimeStamp:** Date from 1/06/2011 to 24/09/2020 (includes daily data with 5 mins of equal interval of time).\n",
    "    \n",
    "    - **Demand:** Sum of Demand recorded by Central Montioring Meters for 5 mins of interval. Actual demand is may higher as those met by embeded technology like small wind turbines and domestic solar panels. (solar power not included)\n",
    "    \n",
    "    - **Frequency:** Grid Frequency, measure instantaneous imbalance between supply and demand. Balanced Threshold frequency in UK for grid is 50 Hz.\n",
    "    \n",
    "    - **Coal:** Output from the last remaining British Coal Fired power stations.\n",
    "    \n",
    "    - **Nuclear:** Output of all Britian's Nuclear Power stations.\n",
    "    \n",
    "    - **CCGT:** Total output of all Britian's Combined Cycle Gas Turbine power stations.\n",
    "    \n",
    "    - **Wind:** Output of all Metered Wind Farms (Unmetered not included) and Included only if demand more or less in proportion to the metered wind farms output.\n",
    "    \n",
    "    - **Pumped:** Output from National Grid pumped storage hydroelectric power stations. Power to use to Recharge batteries is not recorded as they included only if demand increase.\n",
    "    \n",
    "    - **Hydro:** Total output of all National Grids hydroelectric power stations.\n",
    "    \n",
    "    - **Biomass:** Reflects the larger wood burining power stations, such as Drax's converted coal boiler.\n",
    "    \n",
    "    - **Oil:** Almost never used except in some instance in past. Currently not clear any operational plant still exists.\n",
    "    \n",
    "    - **Solar:** Estimated output of solar power provided by Sheffield University. Included as per best Guess values not actual measured output (expected 10% larger than reality).\n",
    "    \n",
    "    - **OCGT:** Records of Britain's Open Cycle Gas Turbine Plants. These are operated only at peak demands, because they're 'Gas Guzzlers'. Build as Short Term Operating Reserve Plant, plant is paid to be available at short notice (Usally used to cover winter demands).\n",
    "    \n",
    "    - **FrenchICT:** +ve if import or -ve if export of power via French Interconnector.\n",
    "    \n",
    "    - **DutchICT:** +ve if import or -ve if export of power via Dutch Interconnector (BRITNED).\n",
    "    \n",
    "    - **IrishICT:** +ve if import or -ve if export of power via Irish Interconnector from Scotland (Moyle).\n",
    "    \n",
    "    - **E-WICT:** +ve if import or -ve if export of power via Irish Interconnector from Wales(East-West).\n",
    "    \n",
    "    - **NEMOICT:** +ve if import or -ve if export of power via NEMO Interconnector from Kent to Belgium.\n",
    "    \n",
    "    - **Other:** Field used to represent biomass, but now has its own field. Not clear about field currently represents: possibly some STORAGE capacity like diesels.\n",
    "    \n",
    "    - **North-South:** Measure of power flow recorded by the National Grid from the North of England to the South.\n",
    "    \n",
    "    - **Scotland-England:** Measure of power flow recorded by the National Grid from the Scotland to England. It is particular interest to those looking to assess the impact of the closure of Scotland's Nuclear and Coal plant on the economy as they putatively independent 'all renewable' Scoland.\n",
    "    \n",
    "    \n",
    "#### Develop\n",
    "#### Deploy"
   ]
  },
  {
   "cell_type": "code",
   "execution_count": 5,
   "metadata": {},
   "outputs": [],
   "source": [
    "import pandas as pd\n",
    "import numpy as np\n"
   ]
  },
  {
   "cell_type": "code",
   "execution_count": 6,
   "metadata": {},
   "outputs": [],
   "source": [
    "Data = pd.read_csv(\"/Users/ganesh_dhasade/Documents/GitHub/BIG_DataNationalGird/NationalGridUK.csv\")"
   ]
  },
  {
   "cell_type": "code",
   "execution_count": 7,
   "metadata": {},
   "outputs": [
    {
     "data": {
      "text/plain": [
       "Index(['id', ' timestamp', ' demand', ' frequency', ' coal', ' nuclear',\n",
       "       ' ccgt', ' wind', ' pumped', ' hydro', ' biomass', ' oil', ' solar',\n",
       "       ' ocgt', ' french_ict', ' dutch_ict', ' irish_ict', ' ew_ict', ' nemo',\n",
       "       ' other', ' north_south', ' scotland_england'],\n",
       "      dtype='object')"
      ]
     },
     "execution_count": 7,
     "metadata": {},
     "output_type": "execute_result"
    }
   ],
   "source": [
    "Data.columns"
   ]
  },
  {
   "cell_type": "code",
   "execution_count": null,
   "metadata": {},
   "outputs": [],
   "source": []
  }
 ],
 "metadata": {
  "kernelspec": {
   "display_name": "Python 3",
   "language": "python",
   "name": "python3"
  },
  "language_info": {
   "codemirror_mode": {
    "name": "ipython",
    "version": 3
   },
   "file_extension": ".py",
   "mimetype": "text/x-python",
   "name": "python",
   "nbconvert_exporter": "python",
   "pygments_lexer": "ipython3",
   "version": "3.7.9"
  }
 },
 "nbformat": 4,
 "nbformat_minor": 4
}
